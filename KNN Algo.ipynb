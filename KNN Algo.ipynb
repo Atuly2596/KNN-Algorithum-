{
 "cells": [
  {
   "cell_type": "code",
   "execution_count": 1,
   "metadata": {},
   "outputs": [],
   "source": [
    "import numpy as np"
   ]
  },
  {
   "cell_type": "code",
   "execution_count": 2,
   "metadata": {},
   "outputs": [],
   "source": [
    "data = np.genfromtxt(r'iris.data2.txt',delimiter=',',dtype = 'str')"
   ]
  },
  {
   "cell_type": "code",
   "execution_count": 3,
   "metadata": {},
   "outputs": [],
   "source": [
    "x = data[:,:4].astype('float')\n",
    "y = data[:,-1]"
   ]
  },
  {
   "cell_type": "code",
   "execution_count": 4,
   "metadata": {},
   "outputs": [],
   "source": [
    "flower_class = {}\n",
    "c = 0\n",
    "for i in y:\n",
    "    if i not in flower_class:\n",
    "        flower_class[i] = c\n",
    "        c += 1"
   ]
  },
  {
   "cell_type": "code",
   "execution_count": 5,
   "metadata": {},
   "outputs": [
    {
     "data": {
      "text/plain": [
       "{'Iris-setosa': 0, 'Iris-versicolor': 1, 'Iris-virginica': 2}"
      ]
     },
     "execution_count": 5,
     "metadata": {},
     "output_type": "execute_result"
    }
   ],
   "source": [
    "flower_class"
   ]
  },
  {
   "cell_type": "code",
   "execution_count": 6,
   "metadata": {},
   "outputs": [],
   "source": [
    "for i,d in enumerate(y):\n",
    "    y[i] = flower_class[d]"
   ]
  },
  {
   "cell_type": "code",
   "execution_count": 7,
   "metadata": {
    "scrolled": true
   },
   "outputs": [
    {
     "data": {
      "text/plain": [
       "array([0, 0, 0, 0, 0, 0, 0, 0, 0, 0, 0, 0, 0, 0, 0, 0, 0, 0, 0, 0, 0, 0,\n",
       "       0, 0, 0, 0, 0, 0, 0, 0, 0, 0, 0, 0, 0, 0, 0, 0, 0, 0, 0, 0, 0, 0,\n",
       "       0, 0, 0, 0, 0, 0, 1, 1, 1, 1, 1, 1, 1, 1, 1, 1, 1, 1, 1, 1, 1, 1,\n",
       "       1, 1, 1, 1, 1, 1, 1, 1, 1, 1, 1, 1, 1, 1, 1, 1, 1, 1, 1, 1, 1, 1,\n",
       "       1, 1, 1, 1, 1, 1, 1, 1, 1, 1, 1, 1, 2, 2, 2, 2, 2, 2, 2, 2, 2, 2,\n",
       "       2, 2, 2, 2, 2, 2, 2, 2, 2, 2, 2, 2, 2, 2, 2, 2, 2, 2, 2, 2, 2, 2,\n",
       "       2, 2, 2, 2, 2, 2, 2, 2, 2, 2, 2, 2, 2, 2, 2, 2, 2, 2])"
      ]
     },
     "execution_count": 7,
     "metadata": {},
     "output_type": "execute_result"
    }
   ],
   "source": [
    "y = y.astype('int32')\n",
    "y"
   ]
  },
  {
   "cell_type": "code",
   "execution_count": 8,
   "metadata": {},
   "outputs": [
    {
     "data": {
      "text/plain": [
       "KNeighborsClassifier(algorithm='auto', leaf_size=30, metric='minkowski',\n",
       "           metric_params=None, n_jobs=1, n_neighbors=5, p=2,\n",
       "           weights='uniform')"
      ]
     },
     "execution_count": 8,
     "metadata": {},
     "output_type": "execute_result"
    }
   ],
   "source": [
    "from sklearn import neighbors\n",
    "knn  = neighbors.KNeighborsClassifier()\n",
    "knn.fit(x,y)"
   ]
  },
  {
   "cell_type": "code",
   "execution_count": 9,
   "metadata": {},
   "outputs": [
    {
     "data": {
      "text/plain": [
       "array([0])"
      ]
     },
     "execution_count": 9,
     "metadata": {},
     "output_type": "execute_result"
    }
   ],
   "source": [
    "knn.predict([[5. , 3.4, 1.5, 0.2]])"
   ]
  },
  {
   "cell_type": "code",
   "execution_count": 10,
   "metadata": {},
   "outputs": [],
   "source": [
    "b = np.array([])\n",
    "for i in x:\n",
    "    b = np.append(b,[i[0]+i[1],i[2]+i[3]])"
   ]
  },
  {
   "cell_type": "code",
   "execution_count": 11,
   "metadata": {},
   "outputs": [],
   "source": [
    "b = b.reshape(150,2)"
   ]
  },
  {
   "cell_type": "code",
   "execution_count": 12,
   "metadata": {},
   "outputs": [
    {
     "data": {
      "text/plain": [
       "array([[ 8.6,  1.6],\n",
       "       [ 7.9,  1.6],\n",
       "       [ 7.9,  1.5],\n",
       "       [ 7.7,  1.7],\n",
       "       [ 8.6,  1.6],\n",
       "       [ 9.3,  2.1],\n",
       "       [ 8. ,  1.7],\n",
       "       [ 8.4,  1.7],\n",
       "       [ 7.3,  1.6],\n",
       "       [ 8. ,  1.6],\n",
       "       [ 9.1,  1.7],\n",
       "       [ 8.2,  1.8],\n",
       "       [ 7.8,  1.5],\n",
       "       [ 7.3,  1.2],\n",
       "       [ 9.8,  1.4],\n",
       "       [10.1,  1.9],\n",
       "       [ 9.3,  1.7],\n",
       "       [ 8.6,  1.7],\n",
       "       [ 9.5,  2. ],\n",
       "       [ 8.9,  1.8],\n",
       "       [ 8.8,  1.9],\n",
       "       [ 8.8,  1.9],\n",
       "       [ 8.2,  1.2],\n",
       "       [ 8.4,  2.2],\n",
       "       [ 8.2,  2.1],\n",
       "       [ 8. ,  1.8],\n",
       "       [ 8.4,  2. ],\n",
       "       [ 8.7,  1.7],\n",
       "       [ 8.6,  1.6],\n",
       "       [ 7.9,  1.8],\n",
       "       [ 7.9,  1.8],\n",
       "       [ 8.8,  1.9],\n",
       "       [ 9.3,  1.6],\n",
       "       [ 9.7,  1.6],\n",
       "       [ 8. ,  1.6],\n",
       "       [ 8.2,  1.4],\n",
       "       [ 9. ,  1.5],\n",
       "       [ 8. ,  1.6],\n",
       "       [ 7.4,  1.5],\n",
       "       [ 8.5,  1.7],\n",
       "       [ 8.5,  1.6],\n",
       "       [ 6.8,  1.6],\n",
       "       [ 7.6,  1.5],\n",
       "       [ 8.5,  2.2],\n",
       "       [ 8.9,  2.3],\n",
       "       [ 7.8,  1.7],\n",
       "       [ 8.9,  1.8],\n",
       "       [ 7.8,  1.6],\n",
       "       [ 9. ,  1.7],\n",
       "       [ 8.3,  1.6],\n",
       "       [10.2,  6.1],\n",
       "       [ 9.6,  6. ],\n",
       "       [10. ,  6.4],\n",
       "       [ 7.8,  5.3],\n",
       "       [ 9.3,  6.1],\n",
       "       [ 8.5,  5.8],\n",
       "       [ 9.6,  6.3],\n",
       "       [ 7.3,  4.3],\n",
       "       [ 9.5,  5.9],\n",
       "       [ 7.9,  5.3],\n",
       "       [ 7. ,  4.5],\n",
       "       [ 8.9,  5.7],\n",
       "       [ 8.2,  5. ],\n",
       "       [ 9. ,  6.1],\n",
       "       [ 8.5,  4.9],\n",
       "       [ 9.8,  5.8],\n",
       "       [ 8.6,  6. ],\n",
       "       [ 8.5,  5.1],\n",
       "       [ 8.4,  6. ],\n",
       "       [ 8.1,  5. ],\n",
       "       [ 9.1,  6.6],\n",
       "       [ 8.9,  5.3],\n",
       "       [ 8.8,  6.4],\n",
       "       [ 8.9,  5.9],\n",
       "       [ 9.3,  5.6],\n",
       "       [ 9.6,  5.8],\n",
       "       [ 9.6,  6.2],\n",
       "       [ 9.7,  6.7],\n",
       "       [ 8.9,  6. ],\n",
       "       [ 8.3,  4.5],\n",
       "       [ 7.9,  4.9],\n",
       "       [ 7.9,  4.7],\n",
       "       [ 8.5,  5.1],\n",
       "       [ 8.7,  6.7],\n",
       "       [ 8.4,  6. ],\n",
       "       [ 9.4,  6.1],\n",
       "       [ 9.8,  6.2],\n",
       "       [ 8.6,  5.7],\n",
       "       [ 8.6,  5.4],\n",
       "       [ 8. ,  5.3],\n",
       "       [ 8.1,  5.6],\n",
       "       [ 9.1,  6. ],\n",
       "       [ 8.4,  5.2],\n",
       "       [ 7.3,  4.3],\n",
       "       [ 8.3,  5.5],\n",
       "       [ 8.7,  5.4],\n",
       "       [ 8.6,  5.5],\n",
       "       [ 9.1,  5.6],\n",
       "       [ 7.6,  4.1],\n",
       "       [ 8.5,  5.4],\n",
       "       [ 9.6,  8.5],\n",
       "       [ 8.5,  7. ],\n",
       "       [10.1,  8. ],\n",
       "       [ 9.2,  7.4],\n",
       "       [ 9.5,  8. ],\n",
       "       [10.6,  8.7],\n",
       "       [ 7.4,  6.2],\n",
       "       [10.2,  8.1],\n",
       "       [ 9.2,  7.6],\n",
       "       [10.8,  8.6],\n",
       "       [ 9.7,  7.1],\n",
       "       [ 9.1,  7.2],\n",
       "       [ 9.8,  7.6],\n",
       "       [ 8.2,  7. ],\n",
       "       [ 8.6,  7.5],\n",
       "       [ 9.6,  7.6],\n",
       "       [ 9.5,  7.3],\n",
       "       [11.5,  8.9],\n",
       "       [10.3,  9.2],\n",
       "       [ 8.2,  6.5],\n",
       "       [10.1,  8. ],\n",
       "       [ 8.4,  6.9],\n",
       "       [10.5,  8.7],\n",
       "       [ 9. ,  6.7],\n",
       "       [10. ,  7.8],\n",
       "       [10.4,  7.8],\n",
       "       [ 9. ,  6.6],\n",
       "       [ 9.1,  6.7],\n",
       "       [ 9.2,  7.7],\n",
       "       [10.2,  7.4],\n",
       "       [10.2,  8. ],\n",
       "       [11.7,  8.4],\n",
       "       [ 9.2,  7.8],\n",
       "       [ 9.1,  6.6],\n",
       "       [ 8.7,  7. ],\n",
       "       [10.7,  8.4],\n",
       "       [ 9.7,  8. ],\n",
       "       [ 9.5,  7.3],\n",
       "       [ 9. ,  6.6],\n",
       "       [10. ,  7.5],\n",
       "       [ 9.8,  8. ],\n",
       "       [10. ,  7.4],\n",
       "       [ 8.5,  7. ],\n",
       "       [10. ,  8.2],\n",
       "       [10. ,  8.2],\n",
       "       [ 9.7,  7.5],\n",
       "       [ 8.8,  6.9],\n",
       "       [ 9.5,  7.2],\n",
       "       [ 9.6,  7.7],\n",
       "       [ 8.9,  6.9]])"
      ]
     },
     "execution_count": 12,
     "metadata": {},
     "output_type": "execute_result"
    }
   ],
   "source": [
    "b"
   ]
  },
  {
   "cell_type": "code",
   "execution_count": 13,
   "metadata": {},
   "outputs": [
    {
     "name": "stderr",
     "output_type": "stream",
     "text": [
      "C:\\Anaconda\\lib\\site-packages\\sklearn\\cross_validation.py:41: DeprecationWarning: This module was deprecated in version 0.18 in favor of the model_selection module into which all the refactored classes and functions are moved. Also note that the interface of the new CV iterators are different from that of this module. This module will be removed in 0.20.\n",
      "  \"This module will be removed in 0.20.\", DeprecationWarning)\n"
     ]
    }
   ],
   "source": [
    "from sklearn.cross_validation import train_test_split"
   ]
  },
  {
   "cell_type": "code",
   "execution_count": 14,
   "metadata": {},
   "outputs": [],
   "source": [
    "x_train,x_test,y_train,y_test = train_test_split(b,y,test_size = 0.2)"
   ]
  },
  {
   "cell_type": "code",
   "execution_count": 15,
   "metadata": {},
   "outputs": [],
   "source": [
    "from sklearn import neighbors"
   ]
  },
  {
   "cell_type": "code",
   "execution_count": 16,
   "metadata": {},
   "outputs": [],
   "source": [
    "knn = neighbors.KNeighborsClassifier()"
   ]
  },
  {
   "cell_type": "code",
   "execution_count": 17,
   "metadata": {},
   "outputs": [
    {
     "data": {
      "text/plain": [
       "KNeighborsClassifier(algorithm='auto', leaf_size=30, metric='minkowski',\n",
       "           metric_params=None, n_jobs=1, n_neighbors=5, p=2,\n",
       "           weights='uniform')"
      ]
     },
     "execution_count": 17,
     "metadata": {},
     "output_type": "execute_result"
    }
   ],
   "source": [
    "knn.fit(x_train,y_train)"
   ]
  },
  {
   "cell_type": "code",
   "execution_count": 18,
   "metadata": {},
   "outputs": [
    {
     "data": {
      "text/plain": [
       "array([0])"
      ]
     },
     "execution_count": 18,
     "metadata": {},
     "output_type": "execute_result"
    }
   ],
   "source": [
    "knn.predict([[10.25,3.2]])"
   ]
  },
  {
   "cell_type": "code",
   "execution_count": 19,
   "metadata": {},
   "outputs": [
    {
     "data": {
      "text/plain": [
       "0.9666666666666667"
      ]
     },
     "execution_count": 19,
     "metadata": {},
     "output_type": "execute_result"
    }
   ],
   "source": [
    "knn.score(x_test,y_test)"
   ]
  },
  {
   "cell_type": "markdown",
   "metadata": {},
   "source": [
    "# Creating Algo From Scratch"
   ]
  },
  {
   "cell_type": "code",
   "execution_count": 20,
   "metadata": {},
   "outputs": [],
   "source": [
    "col = []\n",
    "d = {0:'r',1:'g',2:'b'}\n",
    "for i in y:\n",
    "    col.append(d[i])"
   ]
  },
  {
   "cell_type": "code",
   "execution_count": 21,
   "metadata": {},
   "outputs": [],
   "source": [
    "import matplotlib.pyplot as plt"
   ]
  },
  {
   "cell_type": "code",
   "execution_count": 22,
   "metadata": {},
   "outputs": [
    {
     "data": {
      "image/png": "[encoded data removed]",
      "text/plain": [
       "<Figure size 432x288 with 1 Axes>"
      ]
     },
     "metadata": {},
     "output_type": "display_data"
    }
   ],
   "source": [
    "for i,j in zip(b,col):\n",
    "    plt.scatter(i[0],i[1],c=j,marker = '.',s = 150)\n",
    "plt.show()"
   ]
  },
  {
   "cell_type": "code",
   "execution_count": 23,
   "metadata": {},
   "outputs": [],
   "source": [
    "from collections import Counter"
   ]
  },
  {
   "cell_type": "code",
   "execution_count": 24,
   "metadata": {},
   "outputs": [],
   "source": [
    "def l_sort(x):\n",
    "    return x[0]\n",
    "def knn_algo(features,p,k):\n",
    "    dis = []\n",
    "    for d,c in zip(features,col):\n",
    "        dis.append([np.sqrt((d[0]-p[0])**2 + (d[1]-p[1])**2),c])\n",
    "    dis.sort(key = l_sort,reverse=False)\n",
    "    P = dis[:k]\n",
    "    list_g = []\n",
    "    for i in P:\n",
    "        list_g.append(i[1])\n",
    "    l = Counter(list_g).most_common()\n",
    "    l.sort(reverse = True)\n",
    "    return l"
   ]
  },
  {
   "cell_type": "code",
   "execution_count": 27,
   "metadata": {},
   "outputs": [],
   "source": [
    "p = [2,3]\n",
    "c = knn_algo(b,p,4)"
   ]
  },
  {
   "cell_type": "code",
   "execution_count": 28,
   "metadata": {},
   "outputs": [
    {
     "name": "stdout",
     "output_type": "stream",
     "text": [
      "Point belongs to : r\n"
     ]
    }
   ],
   "source": [
    "print(\"Point belongs to :\",c[0][0])"
   ]
  }
 ],
 "metadata": {
  "kernelspec": {
   "display_name": "Python 3",
   "language": "python",
   "name": "python3"
  },
  "language_info": {
   "codemirror_mode": {
    "name": "ipython",
    "version": 3
   },
   "file_extension": ".py",
   "mimetype": "text/x-python",
   "name": "python",
   "nbconvert_exporter": "python",
   "pygments_lexer": "ipython3",
   "version": "3.6.5"
  }
 },
 "nbformat": 4,
 "nbformat_minor": 2
}
